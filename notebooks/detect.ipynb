{
 "cells": [
  {
   "cell_type": "code",
   "execution_count": null,
   "metadata": {},
   "outputs": [],
   "source": [
    "!pip install ultralytics"
   ]
  },
  {
   "cell_type": "code",
   "execution_count": null,
   "metadata": {},
   "outputs": [],
   "source": [
    "import os\n",
    "\n",
    "# Set the current working directory to the 'notebook' directory\n",
    "os.path.abspath(os.getcwd())\n",
    "\n",
    "# Change the directory to the 'yolov' directory\n",
    "# os.chdir('../model/panel/')\n",
    "\n",
    "# Run the 'detect.py' script\n",
    "!python3 detect.py"
   ]
  }
 ],
 "metadata": {
  "kernelspec": {
   "display_name": "wheat",
   "language": "python",
   "name": "python3"
  },
  "language_info": {
   "codemirror_mode": {
    "name": "ipython",
    "version": 3
   },
   "file_extension": ".py",
   "mimetype": "text/x-python",
   "name": "python",
   "nbconvert_exporter": "python",
   "pygments_lexer": "ipython3",
   "version": "3.11.9"
  }
 },
 "nbformat": 4,
 "nbformat_minor": 2
}
