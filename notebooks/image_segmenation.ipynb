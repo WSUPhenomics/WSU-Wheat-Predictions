{
 "cells": [
  {
   "cell_type": "markdown",
   "metadata": {},
   "source": [
    "### Dependencies"
   ]
  },
  {
   "cell_type": "code",
   "execution_count": null,
   "metadata": {},
   "outputs": [],
   "source": [
    "import os\n",
    "import torch\n",
    "import cv2\n",
    "import numpy as np\n",
    "import matplotlib.pyplot as plt\n",
    "import shutil\n",
    "from yolov5 import YOLOv5\n",
    "from PIL import Image"
   ]
  },
  {
   "cell_type": "markdown",
   "metadata": {},
   "source": [
    "### Splitting Cam Images (928 x 1280) into 2 Total Images: 1 Multispectral Image (928 x 640) and 1 RGB Image (928 x 640)"
   ]
  },
  {
   "cell_type": "code",
   "execution_count": null,
   "metadata": {},
   "outputs": [],
   "source": [
    "def process_rgb_images(input_folder, output_folder_rgb):\n",
    "    # List all camera folders\n",
    "    cam_folders = [f'cam{i}' for i in range(1, 9)]\n",
    "\n",
    "    for cam in cam_folders:\n",
    "        cam_path = os.path.join(input_folder, cam)\n",
    "        output_cam_rgb_path = os.path.join(output_folder_rgb, f'{cam}_rgb')\n",
    "        \n",
    "        os.makedirs(output_cam_rgb_path, exist_ok=True)\n",
    "        \n",
    "        # List all image files in the current camera folder\n",
    "        for filename in os.listdir(cam_path):\n",
    "            if filename.endswith('.png'):\n",
    "                image_path = os.path.join(cam_path, filename)\n",
    "                \n",
    "                # Open the image\n",
    "                img = Image.open(image_path)\n",
    "                \n",
    "                # Check the image size to ensure it is 1280 x 928\n",
    "                if img.size != (1280, 928):\n",
    "                    print(f\"Skipping {image_path}: unexpected image size {img.size}\")\n",
    "                    continue\n",
    "                \n",
    "                # Split the image to get the right half\n",
    "                right_half = img.crop((640, 0, 1280, 928))\n",
    "                \n",
    "                # Save the right half\n",
    "                right_half.save(os.path.join(output_cam_rgb_path, f'{os.path.splitext(filename)[0]}{os.path.splitext(filename)[1]}'))\n",
    "                \n",
    "                print(f\"Processed right side of {filename}\")\n",
    "\n",
    "def process_nir_images(input_folder, output_folder_ir):\n",
    "    # List all camera folders\n",
    "    cam_folders = [f'cam{i}' for i in range(1, 9)]\n",
    "\n",
    "    for cam in cam_folders:\n",
    "        cam_path = os.path.join(input_folder, cam)\n",
    "        output_cam_ir_path = os.path.join(output_folder_ir, f'{cam}_ir')\n",
    "        \n",
    "        os.makedirs(output_cam_ir_path, exist_ok=True)\n",
    "        \n",
    "        # List all image files in the current camera folder\n",
    "        for filename in os.listdir(cam_path):\n",
    "            if filename.endswith('.png'):\n",
    "                image_path = os.path.join(cam_path, filename)\n",
    "                \n",
    "                # Open the image\n",
    "                img = Image.open(image_path)\n",
    "                \n",
    "                # Check the image size to ensure it is 1280 x 928\n",
    "                if img.size != (1280, 928):\n",
    "                    print(f\"Skipping {image_path}: unexpected image size {img.size}\")\n",
    "                    continue\n",
    "                \n",
    "                # Split the image to get the left half\n",
    "                left_half = img.crop((0, 0, 640, 928))\n",
    "                \n",
    "                # Save the left half\n",
    "                left_half.save(os.path.join(output_cam_ir_path, f'{os.path.splitext(filename)[0]}{os.path.splitext(filename)[1]}'))\n",
    "                \n",
    "                print(f\"Processed left side of {filename}\")\n",
    "\n",
    "# Define your input and output folders\n",
    "input_folder = '../data'\n",
    "output_folder_rgb = '../data/'\n",
    "output_folder_ir = '../data/'\n",
    "\n",
    "# Run the functions\n",
    "process_rgb_images(input_folder, output_folder_rgb)\n",
    "process_nir_images(input_folder, output_folder_ir)"
   ]
  }
 ],
 "metadata": {
  "kernelspec": {
   "display_name": "Python 3",
   "language": "python",
   "name": "python3"
  },
  "language_info": {
   "codemirror_mode": {
    "name": "ipython",
    "version": 3
   },
   "file_extension": ".py",
   "mimetype": "text/x-python",
   "name": "python",
   "nbconvert_exporter": "python",
   "pygments_lexer": "ipython3",
   "version": "3.12.3"
  }
 },
 "nbformat": 4,
 "nbformat_minor": 2
}
