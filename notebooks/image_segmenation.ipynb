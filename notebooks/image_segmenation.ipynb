{
 "cells": [
  {
   "cell_type": "code",
   "execution_count": null,
   "metadata": {
    "vscode": {
     "languageId": "shellscript"
    }
   },
   "outputs": [],
   "source": [
    "pip install torch torchvision torchaudio yolov5 matplotlib shutil"
   ]
  },
  {
   "cell_type": "code",
   "execution_count": 1,
   "metadata": {},
   "outputs": [],
   "source": [
    "import os\n",
    "import torch\n",
    "import cv2\n",
    "import numpy as np\n",
    "import matplotlib.pyplot as plt\n",
    "import shutil\n",
    "from yolov5 import YOLOv5"
   ]
  },
  {
   "cell_type": "code",
   "execution_count": 2,
   "metadata": {},
   "outputs": [
    {
     "name": "stderr",
     "output_type": "stream",
     "text": [
      "/Users/vjeyam/miniconda3/envs/sensor/lib/python3.12/site-packages/tqdm/auto.py:21: TqdmWarning: IProgress not found. Please update jupyter and ipywidgets. See https://ipywidgets.readthedocs.io/en/stable/user_install.html\n",
      "  from .autonotebook import tqdm as notebook_tqdm\n"
     ]
    },
    {
     "name": "stdout",
     "output_type": "stream",
     "text": [
      "Model loaded successfully.\n"
     ]
    }
   ],
   "source": [
    "pretrained_file_path = '../yolov5m.pt'\n",
    "model = YOLOv5(pretrained_file_path)\n",
    "\n",
    "if os.path.exists(pretrained_file_path):\n",
    "    model = YOLOv5(pretrained_file_path)\n",
    "    print(\"Model loaded successfully.\")\n",
    "else:\n",
    "    raise FileNotFoundError(f\"File {pretrained_file_path} not found.\")"
   ]
  },
  {
   "cell_type": "code",
   "execution_count": 3,
   "metadata": {},
   "outputs": [
    {
     "name": "stdout",
     "output_type": "stream",
     "text": [
      "Processing complete. The right half of the images have been saved to ../data/cam1_rgb\n"
     ]
    }
   ],
   "source": [
    "# Define source and destination directories\n",
    "src_dir = '../data/cam1'\n",
    "dst_dir = '../data/cam1_rgb'\n",
    "\n",
    "# Create destination directory if it doesn't exist\n",
    "if not os.path.exists(dst_dir):\n",
    "    os.makedirs(dst_dir)\n",
    "\n",
    "# Function to delete a directory if it exists\n",
    "def delete_directory(directory):\n",
    "    if os.path.exists(directory):\n",
    "        shutil.rmtree(directory)\n",
    "\n",
    "# Function to recreate a directory\n",
    "def recreate_directory(directory):\n",
    "    os.makedirs(directory)\n",
    "\n",
    "# Function to process images\n",
    "def process_images(src_dir, dst_dir):\n",
    "    for filename in os.listdir(src_dir):\n",
    "        if filename.endswith('.jpg') or filename.endswith('.png'):\n",
    "            # Read the image\n",
    "            image_path = os.path.join(src_dir, filename)\n",
    "            image = cv2.imread(image_path)\n",
    "            \n",
    "            # Ensure the image is loaded correctly\n",
    "            if image is not None:\n",
    "                # Get the right half of the image (640x928)\n",
    "                height, width = image.shape[:2]\n",
    "                right_half = image[:, width//2:]\n",
    "\n",
    "                # Save the right half to the destination directory\n",
    "                dst_image_path = os.path.join(dst_dir, filename)\n",
    "                cv2.imwrite(dst_image_path, right_half)\n",
    "            else:\n",
    "                print(f\"Failed to load image: {image_path}\")\n",
    "\n",
    "# Process the images\n",
    "process_images(src_dir, dst_dir)\n",
    "\n",
    "print(f\"Processing complete. The right half of the images have been saved to {dst_dir}\")"
   ]
  },
  {
   "cell_type": "code",
   "execution_count": 4,
   "metadata": {},
   "outputs": [],
   "source": [
    "import os\n",
    "\n",
    "# Define the directory containing the JSON files\n",
    "annotation_dir = '../data/cam1_labeled'\n",
    "\n",
    "# List all files in the annotation directory\n",
    "files = os.listdir(annotation_dir)\n",
    "\n",
    "# Loop through the files and rename JSON files\n",
    "for filename in files:\n",
    "    if filename.endswith('_json.json'):\n",
    "        new_filename = filename.replace('_json', '')\n",
    "        old_filepath = os.path.join(annotation_dir, filename)\n",
    "        new_filepath = os.path.join(annotation_dir, new_filename)\n",
    "        os.rename(old_filepath, new_filepath)\n",
    "        print(f'Renamed: {filename} to {new_filename}')"
   ]
  },
  {
   "cell_type": "code",
   "execution_count": 8,
   "metadata": {},
   "outputs": [],
   "source": [
    "import json\n",
    "import os\n",
    "from PIL import Image, ImageDraw\n",
    "\n",
    "def load_annotations(filepath):\n",
    "    with open(filepath, 'r') as file:\n",
    "        annotations = json.load(file)\n",
    "    return annotations\n",
    "\n",
    "def segment_image(image_path, annotations):\n",
    "    image = Image.open(image_path)\n",
    "    draw = ImageDraw.Draw(image)\n",
    "    \n",
    "    image_filename = os.path.basename(image_path)\n",
    "    if image_filename in annotations:\n",
    "        regions = annotations[image_filename]['regions']\n",
    "        for region in regions:\n",
    "            shape_attributes = region['shape_attributes']\n",
    "            x = shape_attributes['x']\n",
    "            y = shape_attributes['y']\n",
    "            width = shape_attributes['width']\n",
    "            height = shape_attributes['height']\n",
    "            draw.rectangle([x, y, x + width, y + height], outline='red')\n",
    "    else:\n",
    "        raise ValueError(f\"Annotations for image {image_filename} not found\")\n",
    "    \n",
    "    return image"
   ]
  },
  {
   "cell_type": "code",
   "execution_count": 11,
   "metadata": {},
   "outputs": [
    {
     "name": "stdout",
     "output_type": "stream",
     "text": [
      "Error: [Errno 2] No such file or directory: '/Users/vjeyam/Desktop/Wheat Project/WSU-Wheat-Predictions/notebooks/date_1-5-2024_10.0.11_1_labeled.png'\n"
     ]
    }
   ],
   "source": [
    "# Example usage\n",
    "annotation_path = '../data/cam1_labeled/date_1-5-2024_10.0.11_1_labeled.json'\n",
    "image_path = '../data/cam1_labeled/date_1-5-2024_10.0.11_1_labeled.png'\n",
    "\n",
    "try:\n",
    "    annotations = load_annotations(annotation_path)\n",
    "    segmented_image = segment_image(image_path, annotations)\n",
    "    print('annotations:', annotations, '\\n')\n",
    "    print('segmented_image:', segmented_image)\n",
    "    \n",
    "    # Save the segmented image\n",
    "    output_path = os.path.splitext(image_path)[0] + \"_segmented.png\"\n",
    "    segmented_image.save(output_path)\n",
    "    print(f\"Segmented image saved to {output_path}\")\n",
    "except Exception as e:\n",
    "    print(f\"Error: {e}\")"
   ]
  },
  {
   "cell_type": "markdown",
   "metadata": {},
   "source": [
    "### After Use, delete the directories"
   ]
  },
  {
   "cell_type": "code",
   "execution_count": null,
   "metadata": {},
   "outputs": [],
   "source": [
    "delete_directory('../data/cam1_rgb')\n",
    "\n",
    "# delete_directory('../data/cam1_labeled')"
   ]
  },
  {
   "cell_type": "code",
   "execution_count": null,
   "metadata": {},
   "outputs": [],
   "source": []
  }
 ],
 "metadata": {
  "kernelspec": {
   "display_name": "Python 3",
   "language": "python",
   "name": "python3"
  },
  "language_info": {
   "codemirror_mode": {
    "name": "ipython",
    "version": 3
   },
   "file_extension": ".py",
   "mimetype": "text/x-python",
   "name": "python",
   "nbconvert_exporter": "python",
   "pygments_lexer": "ipython3",
   "version": "3.12.3"
  }
 },
 "nbformat": 4,
 "nbformat_minor": 2
}
