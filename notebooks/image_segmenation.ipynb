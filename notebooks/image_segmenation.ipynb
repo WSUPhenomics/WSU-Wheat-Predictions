{
 "cells": [
  {
   "cell_type": "code",
   "execution_count": null,
   "metadata": {
    "vscode": {
     "languageId": "shellscript"
    }
   },
   "outputs": [],
   "source": [
    "pip install torch torchvision torchaudio yolov5 matplotlib shutil"
   ]
  },
  {
   "cell_type": "code",
   "execution_count": null,
   "metadata": {},
   "outputs": [],
   "source": [
    "import os\n",
    "import torch\n",
    "import cv2\n",
    "import numpy as np\n",
    "import matplotlib.pyplot as plt\n",
    "import shutil\n",
    "from yolov5 import YOLOv5"
   ]
  },
  {
   "cell_type": "code",
   "execution_count": null,
   "metadata": {},
   "outputs": [],
   "source": [
    "pretrained_file_path = '../yolov5m.pt'\n",
    "model = YOLOv5(pretrained_file_path)\n",
    "\n",
    "if os.path.exists(pretrained_file_path):\n",
    "    model = YOLOv5(pretrained_file_path)\n",
    "    print(\"Model loaded successfully.\")\n",
    "else:\n",
    "    raise FileNotFoundError(f\"File {pretrained_file_path} not found.\")"
   ]
  },
  {
   "cell_type": "code",
   "execution_count": null,
   "metadata": {},
   "outputs": [],
   "source": [
    "# Define source and destination directories\n",
    "src_dir = '../data/cam1'\n",
    "dst_dir = '../data/cam1_rgb'\n",
    "\n",
    "# Create destination directory if it doesn't exist\n",
    "if not os.path.exists(dst_dir):\n",
    "    os.makedirs(dst_dir)\n",
    "\n",
    "# Function to delete a directory if it exists\n",
    "def delete_directory(directory):\n",
    "    if os.path.exists(directory):\n",
    "        shutil.rmtree(directory)\n",
    "\n",
    "# Function to recreate a directory\n",
    "def recreate_directory(directory):\n",
    "    os.makedirs(directory)\n",
    "\n",
    "# Function to process images\n",
    "def process_images(src_dir, dst_dir):\n",
    "    for filename in os.listdir(src_dir):\n",
    "        if filename.endswith('.jpg') or filename.endswith('.png'):\n",
    "            # Read the image\n",
    "            image_path = os.path.join(src_dir, filename)\n",
    "            image = cv2.imread(image_path)\n",
    "            \n",
    "            # Ensure the image is loaded correctly\n",
    "            if image is not None:\n",
    "                # Get the right half of the image (640x928)\n",
    "                height, width = image.shape[:2]\n",
    "                right_half = image[:, width//2:]\n",
    "\n",
    "                # Save the right half to the destination directory\n",
    "                dst_image_path = os.path.join(dst_dir, filename)\n",
    "                cv2.imwrite(dst_image_path, right_half)\n",
    "            else:\n",
    "                print(f\"Failed to load image: {image_path}\")\n",
    "\n",
    "# Process the images\n",
    "process_images(src_dir, dst_dir)\n",
    "\n",
    "print(f\"Processing complete. The right half of the images have been saved to {dst_dir}\")"
   ]
  },
  {
   "cell_type": "code",
   "execution_count": null,
   "metadata": {},
   "outputs": [],
   "source": [
    "import os\n",
    "import cv2\n",
    "import json\n",
    "import matplotlib.pyplot as plt\n",
    "from PIL import Image, ImageDraw\n",
    "\n",
    "# Define paths\n",
    "image_dir = \"../data/\"\n",
    "annotation_dir = \"../data/cam1_labeled/\"\n",
    "\n",
    "# List of images\n",
    "image_files = [\n",
    "    \"date_1-5-2024_10.0.11_1_labeled.png\",\n",
    "    \"date_1-5-2024_12.19.46_1_labeled.png\"\n",
    "]\n",
    "\n",
    "# Function to load VIA annotations\n",
    "def load_annotations(annotation_path):\n",
    "    with open(annotation_path) as f:\n",
    "        annotations = json.load(f)\n",
    "    return annotations\n",
    "\n",
    "# Function to segment image based on VIA annotations\n",
    "def segment_image(image_path, annotations):\n",
    "    image = Image.open(image_path)\n",
    "    draw = ImageDraw.Draw(image)\n",
    "    \n",
    "    for region in annotations['regions']:\n",
    "        shape_attributes = region['shape_attributes']\n",
    "        region_attributes = region['region_attributes']\n",
    "        \n",
    "        if 'name' in shape_attributes and shape_attributes['name'] == 'rect':\n",
    "            x = shape_attributes['x']\n",
    "            y = shape_attributes['y']\n",
    "            width = shape_attributes['width']\n",
    "            height = shape_attributes['height']\n",
    "            \n",
    "            if '1' in region_attributes.values() or 'grey_ref_panel' in region_attributes.values():\n",
    "                draw.rectangle([(x, y), (x + width, y + height)], outline=\"red\", width=3)\n",
    "    \n",
    "    return image\n",
    "\n",
    "# Process each image and its corresponding annotations\n",
    "for image_file in image_files:\n",
    "    image_path = os.path.join(image_dir, image_file)\n",
    "    annotation_file = image_file.replace('.png', '.json')\n",
    "    annotation_path = os.path.join(annotation_dir, annotation_file)\n",
    "    \n",
    "    annotations = load_annotations(annotation_path)\n",
    "    segmented_image = segment_image(image_path, annotations)\n",
    "    \n",
    "    # Save the segmented image\n",
    "    output_path = os.path.splitext(image_path)[0] + \"_segmented.png\"\n",
    "    segmented_image.save(output_path)\n",
    "    print(f\"Segmented image saved to {output_path}\")\n",
    "    \n",
    "    # Display the segmented image\n",
    "    plt.figure(figsize=(10, 8))\n",
    "    plt.imshow(segmented_image)\n",
    "    plt.axis('off')\n",
    "    plt.show()"
   ]
  },
  {
   "cell_type": "markdown",
   "metadata": {},
   "source": [
    "### After Use, delete the directories"
   ]
  },
  {
   "cell_type": "code",
   "execution_count": null,
   "metadata": {},
   "outputs": [],
   "source": [
    "delete_directory(dst_dir)"
   ]
  }
 ],
 "metadata": {
  "kernelspec": {
   "display_name": "Python 3",
   "language": "python",
   "name": "python3"
  },
  "language_info": {
   "codemirror_mode": {
    "name": "ipython",
    "version": 3
   },
   "file_extension": ".py",
   "mimetype": "text/x-python",
   "name": "python",
   "nbconvert_exporter": "python",
   "pygments_lexer": "ipython3",
   "version": "3.12.3"
  }
 },
 "nbformat": 4,
 "nbformat_minor": 2
}
