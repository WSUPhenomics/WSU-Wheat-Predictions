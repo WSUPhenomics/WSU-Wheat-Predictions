{
 "cells": [
  {
   "cell_type": "code",
   "execution_count": null,
   "metadata": {
    "vscode": {
     "languageId": "shellscript"
    }
   },
   "outputs": [],
   "source": [
    "pip install torch torchvision torchaudio yolov5 matplotlib shutil"
   ]
  },
  {
   "cell_type": "code",
   "execution_count": null,
   "metadata": {},
   "outputs": [],
   "source": [
    "import os\n",
    "import torch\n",
    "import cv2\n",
    "import numpy as np\n",
    "import matplotlib.pyplot as plt\n",
    "import shutil\n",
    "from yolov5 import YOLOv5"
   ]
  },
  {
   "cell_type": "code",
   "execution_count": null,
   "metadata": {},
   "outputs": [],
   "source": [
    "pretrained_file_path = '../yolov5m.pt'\n",
    "model = YOLOv5(pretrained_file_path)\n",
    "\n",
    "if os.path.exists(pretrained_file_path):\n",
    "    model = YOLOv5(pretrained_file_path)\n",
    "    print(\"Model loaded successfully.\")\n",
    "else:\n",
    "    raise FileNotFoundError(f\"File {pretrained_file_path} not found.\")"
   ]
  },
  {
   "cell_type": "code",
   "execution_count": null,
   "metadata": {},
   "outputs": [],
   "source": [
    "# Define source and destination directories\n",
    "src_dir = '../data/cam1'\n",
    "dst_dir = '../data/cam1_rgb'\n",
    "\n",
    "# Create destination directory if it doesn't exist\n",
    "if not os.path.exists(dst_dir):\n",
    "    os.makedirs(dst_dir)\n",
    "\n",
    "# Function to delete a directory if it exists\n",
    "def delete_directory(directory):\n",
    "    if os.path.exists(directory):\n",
    "        shutil.rmtree(directory)\n",
    "\n",
    "# Function to recreate a directory\n",
    "def recreate_directory(directory):\n",
    "    os.makedirs(directory)\n",
    "\n",
    "# Function to process images\n",
    "def process_images(src_dir, dst_dir):\n",
    "    for filename in os.listdir(src_dir):\n",
    "        if filename.endswith('.png'):\n",
    "            # Read the image\n",
    "            image_path = os.path.join(src_dir, filename)\n",
    "            image = cv2.imread(image_path)\n",
    "            \n",
    "            # Ensure the image is loaded correctly\n",
    "            if image is not None:\n",
    "                # Get the right half of the image (640x928)\n",
    "                height, width = image.shape[:2]\n",
    "                right_half = image[:, width//2:]\n",
    "\n",
    "                # Save the right half to the destination directory\n",
    "                dst_image_path = os.path.join(dst_dir, filename)\n",
    "                cv2.imwrite(dst_image_path, right_half)\n",
    "            else:\n",
    "                print(f\"Failed to load image: {image_path}\")\n",
    "\n",
    "# Process the images\n",
    "process_images(src_dir, dst_dir)\n",
    "\n",
    "print(f\"Processing complete. The right half of the images have been saved to {dst_dir}\")"
   ]
  },
  {
   "cell_type": "code",
   "execution_count": null,
   "metadata": {},
   "outputs": [],
   "source": [
    "# Define the directory containing the JSON files\n",
    "annotation_dir = '../data/cam1_labeled'\n",
    "\n",
    "# List all files in the annotation directory\n",
    "files = os.listdir(annotation_dir)\n",
    "\n",
    "# Loop through the files and rename JSON files\n",
    "for filename in files:\n",
    "    if filename.endswith('_json.json'):\n",
    "        new_filename = filename.replace('_json', '')\n",
    "        old_filepath = os.path.join(annotation_dir, filename)\n",
    "        new_filepath = os.path.join(annotation_dir, new_filename)\n",
    "        os.rename(old_filepath, new_filepath)\n",
    "        print(f'Renamed: {filename} to {new_filename}')"
   ]
  },
  {
   "cell_type": "code",
   "execution_count": null,
   "metadata": {},
   "outputs": [],
   "source": [
    "import json\n",
    "import os\n",
    "from PIL import Image, ImageDraw\n",
    "\n",
    "def segment_image(json_file, output_folder):\n",
    "    with open(json_file, 'r') as f:\n",
    "        data = json.load(f)\n",
    "        \n",
    "    for filename, image_data in data.items():\n",
    "        \n",
    "        # Construct paths for segmented image and original image\n",
    "        original_img_path = os.path.join('../data/cam1_labeled', filename)\n",
    "        \n",
    "        # Check if the original image file exists\n",
    "        if not os.path.exists(original_img_path):\n",
    "            print(f\"Error: Original image file '{original_img_path}' not found.\")\n",
    "            continue\n",
    "        \n",
    "        # Open original image\n",
    "        original_image = Image.open(original_img_path)\n",
    "        \n",
    "        # Create a mask image for the regions to remove\n",
    "        mask = Image.new('L', original_image.size, 0)\n",
    "        draw = ImageDraw.Draw(mask)\n",
    "        \n",
    "        regions_to_remove = []\n",
    "        regions = image_data.get('regions', [])\n",
    "        for idx, region in enumerate(regions):\n",
    "            region_attributes = region.get('region_attributes', {})\n",
    "            if not region_attributes:\n",
    "                # If region_attributes is empty, mark for removal\n",
    "                shape_attributes = region.get('shape_attributes', {})\n",
    "                x = shape_attributes.get('x', 0)\n",
    "                y = shape_attributes.get('y', 0)\n",
    "                width = shape_attributes.get('width', 0)\n",
    "                height = shape_attributes.get('height', 0)\n",
    "                \n",
    "                draw.rectangle([x, y, x + width, y + height], fill=255)\n",
    "                regions_to_remove.append(idx)\n",
    "        \n",
    "        # Apply the mask to segment the original image\n",
    "        segmented_image = Image.composite(original_image, Image.new('RGB', original_image.size, (255, 255, 255)), mask)\n",
    "        \n",
    "        # Save or display the segmented image\n",
    "        segmented_img_path = os.path.join(output_folder, filename)\n",
    "        segmented_image.save(segmented_img_path)\n",
    "        segmented_image.show()\n",
    "\n",
    "# Example usage\n",
    "json_file_path = '../data/cam1_labeled/json1.json' # original name: date_1-5-2024_10.0.11_1_json.json\n",
    "output_folder = '../data/cam1_segmented/'\n",
    "\n",
    "segment_image(json_file_path, output_folder)"
   ]
  },
  {
   "cell_type": "markdown",
   "metadata": {},
   "source": [
    "### After Use, delete the directories"
   ]
  },
  {
   "cell_type": "code",
   "execution_count": null,
   "metadata": {},
   "outputs": [],
   "source": [
    "delete_directory('../data/cam1_rgb')\n",
    "\n",
    "# delete_directory('../data/cam1_labeled')"
   ]
  }
 ],
 "metadata": {
  "kernelspec": {
   "display_name": "Python 3",
   "language": "python",
   "name": "python3"
  },
  "language_info": {
   "codemirror_mode": {
    "name": "ipython",
    "version": 3
   },
   "file_extension": ".py",
   "mimetype": "text/x-python",
   "name": "python",
   "nbconvert_exporter": "python",
   "pygments_lexer": "ipython3",
   "version": "3.12.3"
  }
 },
 "nbformat": 4,
 "nbformat_minor": 2
}
